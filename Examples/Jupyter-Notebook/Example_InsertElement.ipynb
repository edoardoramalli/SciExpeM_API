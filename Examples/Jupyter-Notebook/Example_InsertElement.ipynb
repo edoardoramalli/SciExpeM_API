{
 "cells": [
  {
   "cell_type": "markdown",
   "metadata": {},
   "source": [
    "# SciExpeM Insert Element\n",
    "\n",
    "- Make sure you have followed the procedure described in 'Example_Login'"
   ]
  },
  {
   "cell_type": "code",
   "execution_count": 1,
   "metadata": {},
   "outputs": [],
   "source": [
    "from SciExpeM_API.SciExpeM import SciExpeM\n",
    "my_sciexpem = SciExpeM(token='my_token')"
   ]
  },
  {
   "cell_type": "markdown",
   "metadata": {},
   "source": [
    "# Insert Experiment\n",
    "There are 5 steps:\n",
    "1. Create FilePaper object\n",
    "2. Create CommonProperty objects\n",
    "3. Create IntialSpecie objects\n",
    "4. Create DataColumn objects\n",
    "5. Assemble everything in an Experiment object\n",
    "\n",
    "Before import also the Models like *FilePaper*, *CommonProperty*, etc.."
   ]
  },
  {
   "cell_type": "code",
   "execution_count": 3,
   "metadata": {},
   "outputs": [],
   "source": [
    "from SciExpeM_API.Models import *"
   ]
  },
  {
   "cell_type": "markdown",
   "metadata": {},
   "source": [
    "### Create FilePaper objects"
   ]
  },
  {
   "cell_type": "code",
   "execution_count": 4,
   "metadata": {},
   "outputs": [],
   "source": [
    "file_paper = FilePaper(references=\"example_paper\", reference_doi=\"doi_example_paper\")"
   ]
  },
  {
   "cell_type": "markdown",
   "metadata": {},
   "source": [
    "### Create CommonProperty objects"
   ]
  },
  {
   "cell_type": "code",
   "execution_count": 5,
   "metadata": {},
   "outputs": [],
   "source": [
    "c1 = CommonProperty(name='temperature', units='K', value='300')\n",
    "c2 = CommonProperty(name='pressure', units='bar', value='5')"
   ]
  },
  {
   "cell_type": "markdown",
   "metadata": {},
   "source": [
    "### Create IntialSpecie objects"
   ]
  },
  {
   "cell_type": "code",
   "execution_count": 6,
   "metadata": {},
   "outputs": [],
   "source": [
    "i1 = InitialSpecie(name='H2', units='mole fraction', value='0.5')\n",
    "i2 = InitialSpecie(name='CO2', units='mole fraction', value='0.5')"
   ]
  },
  {
   "cell_type": "markdown",
   "metadata": {},
   "source": [
    "### Create DataColumn objects"
   ]
  },
  {
   "cell_type": "code",
   "execution_count": 7,
   "metadata": {},
   "outputs": [],
   "source": [
    "d1 = DataColumn(name='temperature', label='T', units='K', dg_id='dg1', \n",
    "                data=[1, 2, 3, 4, 5], plotscale='lin', ignore=False)\n",
    "d2 = DataColumn(name='pressure', label='P', units='bar', dg_id='dg1', \n",
    "                data=[1, 2, 3, 4, 5], plotscale='lin', ignore=False)"
   ]
  },
  {
   "cell_type": "markdown",
   "metadata": {},
   "source": [
    "### Assemble everything in an Experiment object"
   ]
  },
  {
   "cell_type": "code",
   "execution_count": 8,
   "metadata": {},
   "outputs": [],
   "source": [
    "e = Experiment(fileDOI='this_is_an_example', \n",
    "               reactor='shock tube', experiment_type='ignition delay measurement', ignition_type='p-d/dt max',\n",
    "               file_paper=file_paper, data_columns=[d1, d2], initial_species=[i1, i2], common_properties=[c1, c2])"
   ]
  },
  {
   "cell_type": "markdown",
   "metadata": {},
   "source": [
    "### Send the Experiment\n",
    "\n",
    "If there are same errors, an error message with more information is shown."
   ]
  },
  {
   "cell_type": "code",
   "execution_count": 10,
   "metadata": {},
   "outputs": [
    {
     "name": "stderr",
     "output_type": "stream",
     "text": [
      "HTTP ERROR 400 -> insertElement: duplicate key value violates unique constraint \"ExperimentManager_experiment_fileDOI_key\"\n",
      "DETAIL:  Key (\"fileDOI\")=(this_is_an_example) already exists.\n",
      "\n"
     ]
    }
   ],
   "source": [
    "my_sciexpem.insertElement(e, verbose=True)"
   ]
  }
 ],
 "metadata": {
  "kernelspec": {
   "display_name": "Python 3",
   "language": "python",
   "name": "python3"
  },
  "language_info": {
   "codemirror_mode": {
    "name": "ipython",
    "version": 3
   },
   "file_extension": ".py",
   "mimetype": "text/x-python",
   "name": "python",
   "nbconvert_exporter": "python",
   "pygments_lexer": "ipython3",
   "version": "3.8.3"
  }
 },
 "nbformat": 4,
 "nbformat_minor": 4
}
