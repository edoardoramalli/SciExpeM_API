{
 "cells": [
  {
   "cell_type": "markdown",
   "metadata": {},
   "source": [
    "# SciExpeM Query\n",
    "\n",
    "- Make sure you have followed the procedure described in 'Example_Login'"
   ]
  },
  {
   "cell_type": "code",
   "execution_count": null,
   "metadata": {},
   "outputs": [],
   "source": [
    "from SciExpeM_API.SciExpeM import SciExpeM\n",
    "my_sciexpem = SciExpeM(token='my_token')"
   ]
  },
  {
   "cell_type": "markdown",
   "metadata": {},
   "source": [
    "## Get an Experiment by DOI\n",
    "\n",
    "You have to use the *filterDatabase* method that has a *model_name* argument that specify the 'target' model name. For example, if we want to query the dabase amoung the experiments, the model_name='Experiment'. If you need a kinetic model model_name='ChemModel'. Then the method accepts a series of argument that are used to filter the database. A list of objects that satisfy the query is returned.\n",
    "\n",
    "The possible *model_name* are:\n",
    "- *Experiment*\n",
    "- *ChemModel*\n",
    "- *Execution*\n",
    "- *CommonProperty*\n",
    "- *InitialSpecie*\n",
    "- *FilePaper*\n",
    "- *DataColumn*\n",
    "- *ExecutionColumn*\n",
    "- *CurveMatchingResult*\n",
    "\n",
    "The list of possible arguments against which filter the *model_name* depends on the specific object."
   ]
  },
  {
   "cell_type": "code",
   "execution_count": null,
   "metadata": {},
   "outputs": [],
   "source": [
    "result_list = my_sciexpem.filterDatabase(model_name='Experiment', fileDOI='this_is_an_example')\n",
    "\n",
    "for result in result_list:\n",
    "    print(\"DOI:\", result.fileDOI)\n",
    "    print(\"Reactor:\", result.reactor)"
   ]
  },
  {
   "cell_type": "markdown",
   "metadata": {},
   "source": [
    "You can query the database with more than one parameter at the time."
   ]
  },
  {
   "cell_type": "code",
   "execution_count": null,
   "metadata": {},
   "outputs": [],
   "source": [
    "result_list = my_sciexpem.filterDatabase(model_name='Experiment', \n",
    "                                         reactor='shock tube', \n",
    "                                         experiment_type='ignition delay measurement',\n",
    "                                         ignition_type='p-d/dt max')\n",
    "\n",
    "for result in result_list:\n",
    "    print(\"DOI:\", result.fileDOI)\n"
   ]
  }
 ],
 "metadata": {
  "kernelspec": {
   "display_name": "Python 3",
   "language": "python",
   "name": "python3"
  },
  "language_info": {
   "codemirror_mode": {
    "name": "ipython",
    "version": 3
   },
   "file_extension": ".py",
   "mimetype": "text/x-python",
   "name": "python",
   "nbconvert_exporter": "python",
   "pygments_lexer": "ipython3",
   "version": "3.9.1"
  }
 },
 "nbformat": 4,
 "nbformat_minor": 4
}
