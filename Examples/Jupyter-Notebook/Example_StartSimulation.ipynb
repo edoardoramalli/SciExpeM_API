{
 "cells": [
  {
   "cell_type": "markdown",
   "metadata": {},
   "source": [
    "# SciExpeM Start Simulation\n",
    "\n",
    "- Make sure you have followed the procedure described in 'Example_Login'\n"
   ]
  },
  {
   "cell_type": "code",
   "execution_count": 1,
   "metadata": {},
   "outputs": [],
   "source": [
    "from SciExpeM_API.SciExpeM import SciExpeM\n",
    "my_sciexpem = SciExpeM(token='5280f9fc2fd9c8964ad93d4b553e6054c92a0993')"
   ]
  },
  {
   "cell_type": "markdown",
   "metadata": {},
   "source": [
    "### Select Kinetic Model\n",
    "\n",
    "First see which are the available models. Then select one."
   ]
  },
  {
   "cell_type": "code",
   "execution_count": 2,
   "metadata": {},
   "outputs": [
    {
     "name": "stdout",
     "output_type": "stream",
     "text": [
      "Model Name: POLIMI_1412_H2\n",
      "Model Name: POLIMI_1407_H2\n",
      "Model Name: POLIMI_1011_H2\n",
      "Model Name: POLIMI_1006_H2\n",
      "Model Name: POLIMI_1311_H2\n",
      "Model Name: POLIMI_0810_H2\n",
      "Model Name: POLIMI_1211_H2\n",
      "Model Name: POLIMI_1201_H2\n",
      "Model Name: CRECK_2003_H2\n"
     ]
    }
   ],
   "source": [
    "chem_models = my_sciexpem.filterDatabase(model_name='ChemModel')\n",
    "for model in chem_models:\n",
    "    print(\"Model Name:\", model.name)"
   ]
  },
  {
   "cell_type": "code",
   "execution_count": null,
   "metadata": {},
   "outputs": [],
   "source": [
    "my_model = my_sciexpem.filterDatabase(model_name='ChemModel', name='CRECK_2003_H2')[0]"
   ]
  },
  {
   "cell_type": "markdown",
   "metadata": {},
   "source": [
    "### Select an Experiment"
   ]
  },
  {
   "cell_type": "code",
   "execution_count": 3,
   "metadata": {},
   "outputs": [],
   "source": [
    "my_experiment = my_sciexpem.filterDatabase(model_name='Experiment', fileDOI__contains='zenodo', status='verified')"
   ]
  },
  {
   "cell_type": "markdown",
   "metadata": {},
   "source": [
    "### Simulate an Experiment with a Model\n",
    "If an error occurs more details are shown."
   ]
  },
  {
   "cell_type": "code",
   "execution_count": 21,
   "metadata": {},
   "outputs": [],
   "source": [
    "my_experiment_execute = my_sciexpem.filterDatabase(model_name='Execution')\n"
   ]
  },
  {
   "cell_type": "code",
   "execution_count": 22,
   "metadata": {},
   "outputs": [
    {
     "name": "stdout",
     "output_type": "stream",
     "text": [
      "[<Experiment (329)>, <Experiment (330)>, <Experiment (331)>]\n"
     ]
    }
   ],
   "source": [
    "l = [exp for exp in my_experiment if exp not in [a.experiment for a in my_experiment_execute]]\n",
    "print(l)"
   ]
  },
  {
   "cell_type": "code",
   "execution_count": 14,
   "metadata": {},
   "outputs": [
    {
     "name": "stdout",
     "output_type": "stream",
     "text": [
      "startSimulation: Simulation started.\n",
      "startSimulation: Simulation started.\n",
      "startSimulation: Simulation started.\n",
      "startSimulation: Simulation started.\n",
      "startSimulation: Simulation started.\n",
      "startSimulation: Simulation started.\n",
      "startSimulation: Simulation started.\n",
      "startSimulation: Simulation started.\n",
      "startSimulation: Simulation started.\n",
      "startSimulation: Simulation started.\n",
      "startSimulation: Simulation started.\n",
      "startSimulation: Simulation started.\n",
      "startSimulation: Simulation started.\n",
      "startSimulation: Simulation started.\n",
      "startSimulation: Simulation started.\n",
      "startSimulation: Simulation started.\n",
      "startSimulation: Simulation started.\n",
      "startSimulation: Simulation started.\n",
      "startSimulation: Execution already started.\n",
      "startSimulation: Execution already started.\n",
      "startSimulation: Execution already started.\n",
      "startSimulation: Execution already started.\n",
      "startSimulation: Execution already started.\n",
      "startSimulation: Execution already started.\n",
      "startSimulation: Execution already started.\n",
      "startSimulation: Execution already started.\n",
      "startSimulation: Execution already started.\n",
      "startSimulation: Execution already started.\n",
      "startSimulation: Execution already started.\n",
      "startSimulation: Execution already started.\n",
      "startSimulation: Execution already started.\n",
      "startSimulation: Execution already started.\n",
      "startSimulation: Execution already started.\n",
      "startSimulation: Execution already started.\n",
      "startSimulation: Execution already started.\n",
      "startSimulation: Execution already started.\n",
      "startSimulation: Execution already started.\n",
      "startSimulation: Execution already started.\n",
      "startSimulation: Execution already started.\n",
      "startSimulation: Execution already started.\n",
      "startSimulation: Execution already started.\n",
      "startSimulation: Execution already started.\n",
      "startSimulation: Execution already started.\n",
      "startSimulation: Execution already started.\n",
      "startSimulation: Execution already started.\n",
      "startSimulation: Execution already started.\n",
      "startSimulation: Execution already started.\n",
      "startSimulation: Execution already started.\n",
      "startSimulation: Execution already started.\n",
      "startSimulation: Execution already started.\n",
      "startSimulation: Execution already started.\n",
      "startSimulation: Execution already started.\n",
      "startSimulation: Execution already started.\n",
      "startSimulation: Execution already started.\n",
      "startSimulation: Execution already started.\n",
      "startSimulation: Execution already started.\n",
      "startSimulation: Execution already started.\n",
      "startSimulation: Execution already started.\n",
      "startSimulation: Execution already started.\n",
      "startSimulation: Execution already started.\n",
      "startSimulation: Execution already started.\n",
      "startSimulation: Execution already started.\n",
      "startSimulation: Execution already started.\n",
      "startSimulation: Simulation started.\n",
      "startSimulation: Simulation started.\n",
      "startSimulation: Simulation started.\n",
      "startSimulation: Simulation started.\n",
      "startSimulation: Simulation started.\n",
      "startSimulation: Simulation started.\n",
      "startSimulation: Simulation started.\n",
      "startSimulation: Simulation started.\n",
      "startSimulation: Simulation started.\n",
      "startSimulation: Execution already started.\n",
      "startSimulation: Execution already started.\n",
      "startSimulation: Execution already started.\n",
      "startSimulation: Execution already started.\n",
      "startSimulation: Execution already started.\n",
      "startSimulation: Execution already started.\n",
      "startSimulation: Execution already started.\n",
      "startSimulation: Execution already started.\n",
      "startSimulation: Execution already started.\n"
     ]
    }
   ],
   "source": [
    "import time\n",
    "for e in my_experiment:\n",
    "    for m in chem_models:\n",
    "        my_sciexpem.startSimulation(experiment=e, chemModel=m, verbose=True)\n",
    "        time.sleep(0.5)"
   ]
  },
  {
   "cell_type": "code",
   "execution_count": 23,
   "metadata": {},
   "outputs": [
    {
     "name": "stdout",
     "output_type": "stream",
     "text": [
      "startSimulation: Simulation started.\n"
     ]
    }
   ],
   "source": [
    "my_sciexpem.startSimulation(experiment=329, chemModel=chem_models[0], verbose=True)"
   ]
  },
  {
   "cell_type": "code",
   "execution_count": null,
   "metadata": {},
   "outputs": [],
   "source": []
  }
 ],
 "metadata": {
  "kernelspec": {
   "display_name": "Python 3",
   "language": "python",
   "name": "python3"
  },
  "language_info": {
   "codemirror_mode": {
    "name": "ipython",
    "version": 3
   },
   "file_extension": ".py",
   "mimetype": "text/x-python",
   "name": "python",
   "nbconvert_exporter": "python",
   "pygments_lexer": "ipython3",
   "version": "3.9.1"
  }
 },
 "nbformat": 4,
 "nbformat_minor": 4
}
