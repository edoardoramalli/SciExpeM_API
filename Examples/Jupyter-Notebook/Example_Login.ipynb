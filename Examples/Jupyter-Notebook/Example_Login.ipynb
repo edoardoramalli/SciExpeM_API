{
 "cells": [
  {
   "cell_type": "markdown",
   "metadata": {},
   "source": [
    "# SciExpeM Login"
   ]
  },
  {
   "cell_type": "markdown",
   "metadata": {},
   "source": [
    "## General \n",
    "* Make sure that you have installed the last version of *SciExpeM_API* from [https://github.com/edoardoramalli/SciExpeM_API]. \n",
    "* Make sure that you are running this notebook file in the same enviroment in which you have installed *SciExpeM_API*."
   ]
  },
  {
   "cell_type": "markdown",
   "metadata": {},
   "source": [
    "## Import SciExpeM_API\n",
    "To use *SciExpeM_API* you have to import the package with the following instruction."
   ]
  },
  {
   "cell_type": "code",
   "execution_count": null,
   "metadata": {},
   "outputs": [],
   "source": [
    "from SciExpeM_API.SciExpeM import SciExpeM"
   ]
  },
  {
   "cell_type": "markdown",
   "metadata": {},
   "source": [
    "### Login - Username and Password\n",
    "Provide yuor *username* and *password* to a SciExpeM python object."
   ]
  },
  {
   "cell_type": "code",
   "execution_count": null,
   "metadata": {},
   "outputs": [],
   "source": [
    "my_sciexpem = SciExpeM(username='my_username', password='my_password')"
   ]
  },
  {
   "cell_type": "markdown",
   "metadata": {},
   "source": [
    "### Token\n",
    "In the future could be easier to login with an access token. After the first connection using *username* and *password*, the SciExpeM object, called *my_sciexpem* in this case, has a *User* object with all the information related to the user in the *user* attribute. To know which is your access token, do the following."
   ]
  },
  {
   "cell_type": "code",
   "execution_count": null,
   "metadata": {},
   "outputs": [],
   "source": [
    "print(\"My token is:\", my_sciexpem.user.token)"
   ]
  },
  {
   "cell_type": "markdown",
   "metadata": {},
   "source": [
    "## Login - Token\n",
    "Now you can also login with the access token. Only one connection at the time is allowed from the same client so the library notifies that you are actually using the same connection created before."
   ]
  },
  {
   "cell_type": "code",
   "execution_count": null,
   "metadata": {},
   "outputs": [],
   "source": [
    "my_sciexpem = SciExpeM(token='my_token')"
   ]
  }
 ],
 "metadata": {
  "kernelspec": {
   "display_name": "Python 3",
   "language": "python",
   "name": "python3"
  },
  "language_info": {
   "codemirror_mode": {
    "name": "ipython",
    "version": 3
   },
   "file_extension": ".py",
   "mimetype": "text/x-python",
   "name": "python",
   "nbconvert_exporter": "python",
   "pygments_lexer": "ipython3",
   "version": "3.8.3"
  }
 },
 "nbformat": 4,
 "nbformat_minor": 4
}
