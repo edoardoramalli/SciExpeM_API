{
 "cells": [
  {
   "cell_type": "markdown",
   "metadata": {},
   "source": [
    "# Example SciExpeM_API\n",
    "\n",
    "Import the package"
   ]
  },
  {
   "cell_type": "code",
   "execution_count": 2,
   "metadata": {},
   "outputs": [],
   "source": [
    "from SciExpeM_API.API import *\n",
    "from SciExpeM_API.settings import TOKEN"
   ]
  },
  {
   "cell_type": "markdown",
   "metadata": {},
   "source": [
    "If you don't know your access TOKEN, do the following\n"
   ]
  },
  {
   "cell_type": "code",
   "execution_count": 3,
   "metadata": {},
   "outputs": [
    {
     "name": "stdout",
     "output_type": "stream",
     "text": [
      "2cc7264bc0a86d2aef9a186171cf9627772af41d\n"
     ]
    }
   ],
   "source": [
    "response = getUserInfo(\"root\", \"Milano.2020\")\n",
    "print(response['token'])"
   ]
  },
  {
   "cell_type": "markdown",
   "metadata": {},
   "source": [
    "Now provide the access TOKEN to the package"
   ]
  },
  {
   "cell_type": "code",
   "execution_count": 4,
   "metadata": {},
   "outputs": [],
   "source": [
    "TOKEN = '2cc7264bc0a86d2aef9a186171cf9627772af41d'"
   ]
  },
  {
   "cell_type": "markdown",
   "metadata": {},
   "source": [
    "## Query the database\n",
    "\n",
    "### Experiment"
   ]
  },
  {
   "cell_type": "code",
   "execution_count": 9,
   "metadata": {},
   "outputs": [
    {
     "name": "stdout",
     "output_type": "stream",
     "text": [
      "Experiment Identifier: 10.24388/g00000001_x\n",
      "Status: verified\n",
      "Experiment Type: ignition delay measurement\n"
     ]
    }
   ],
   "source": [
    "experiments = filterExperiment(fileDOI__contains='g00000001_x')\n",
    "exp_0 = experiments[0]\n",
    "print(\"Experiment Identifier:\", exp_0.fileDOI)\n",
    "print(\"Status:\", exp_0.status)\n",
    "print(\"Experiment Type:\", exp_0.experiment_type)"
   ]
  },
  {
   "cell_type": "markdown",
   "metadata": {},
   "source": [
    "### Chemical Model"
   ]
  },
  {
   "cell_type": "code",
   "execution_count": 8,
   "metadata": {},
   "outputs": [
    {
     "name": "stdout",
     "output_type": "stream",
     "text": [
      "Model Name: CRECK_2003_H2\n"
     ]
    }
   ],
   "source": [
    "models = filterChemModel()\n",
    "model_0 = models[1]\n",
    "print(\"Model Name:\", model_0.name)"
   ]
  },
  {
   "cell_type": "markdown",
   "metadata": {},
   "source": [
    "## Execute Simulation"
   ]
  },
  {
   "cell_type": "code",
   "execution_count": 10,
   "metadata": {},
   "outputs": [
    {
     "name": "stdout",
     "output_type": "stream",
     "text": [
      "200 \"Execution Started\"\n"
     ]
    }
   ],
   "source": [
    "startSimulation(experiment=exp_0, chemModel=model_0, verbose=True)"
   ]
  },
  {
   "cell_type": "markdown",
   "metadata": {},
   "source": [
    "## Executions"
   ]
  },
  {
   "cell_type": "code",
   "execution_count": 14,
   "metadata": {},
   "outputs": [
    {
     "name": "stdout",
     "output_type": "stream",
     "text": [
      "              t               T0                 P0            V0  \\\n",
      "0  0.7772600000  1181.0600000000  207716.2000000000  0.0000010000   \n",
      "1  0.7772600000  1214.8200000000  207716.2000000000  0.0000010000   \n",
      "2  0.7772600000  1260.0800000000  207716.2000000000  0.0000010000   \n",
      "3  0.7772600000  1272.7800000000  207716.2000000000  0.0000010000   \n",
      "4  0.7772600000  1295.8400000000  207716.2000000000  0.0000010000   \n",
      "5  0.7772600000  1321.7700000000  207716.2000000000  0.0000010000   \n",
      "6  0.7772600000  1343.2700000000  207716.2000000000  0.0000010000   \n",
      "\n",
      "                 T                  P             V           rho  \\\n",
      "0  1307.7810000000  229238.4000000000  0.0000010000  0.8390935000   \n",
      "1  1340.9510000000  228520.5000000000  0.0000010000  0.8157750000   \n",
      "2  1385.3260000000  227603.2000000000  0.0000010000  0.7864737000   \n",
      "3  1397.7610000000  227354.7000000000  0.0000010000  0.7786262000   \n",
      "4  1420.3200000000  226912.9000000000  0.0000010000  0.7647702000   \n",
      "5  1445.6600000000  226430.5000000000  0.0000010000  0.7497672000   \n",
      "6  1466.6520000000  226041.6000000000  0.0000010000  0.7377666000   \n",
      "\n",
      "              MW    tau_T(max)  tau_T(slope)    tau_P(max)  tau_P(slope)  \n",
      "0  39.8008500000  0.7772600000  0.0010819210  0.7772600000  0.0010819210  \n",
      "1  39.8008400000  0.7772600000  0.0009013924  0.7772600000  0.0009013924  \n",
      "2  39.8008300000  0.7772600000  0.0007196242  0.7772600000  0.0007196242  \n",
      "3  39.8008300000  0.7772600000  0.0006790163  0.7772600000  0.0006769487  \n",
      "4  39.8008200000  0.7772600000  0.0006120265  0.7772600000  0.0006105573  \n",
      "5  39.8008100000  0.7772600000  0.0005480562  0.7772600000  0.0005480562  \n",
      "6  39.8008100000  0.7772600000  0.0005027527  0.7772600000  0.0005006017  \n"
     ]
    }
   ],
   "source": [
    "executions = filterExecution(experiment_id=exp_0.id)\n",
    "exec = executions[0]\n",
    "print(exec.execution_columns_df['ParametricAnalysisIDT'])"
   ]
  },
  {
   "cell_type": "markdown",
   "metadata": {},
   "source": [
    "## Analyze "
   ]
  },
  {
   "cell_type": "code",
   "execution_count": 18,
   "metadata": {},
   "outputs": [
    {
     "name": "stdout",
     "output_type": "stream",
     "text": [
      "200 \"Experiment verified successfully\"\n"
     ]
    }
   ],
   "source": [
    "analyzeExecution(exec, verbose=True)"
   ]
  },
  {
   "cell_type": "markdown",
   "metadata": {},
   "source": [
    "## Curve Matching Results"
   ]
  },
  {
   "cell_type": "code",
   "execution_count": 20,
   "metadata": {},
   "outputs": [
    {
     "name": "stdout",
     "output_type": "stream",
     "text": [
      "Score:  0.8269323161 Index:  0.0007367252\n"
     ]
    }
   ],
   "source": [
    "cm_result = filterCurveMatchingResult(execution_column__execution__experiment__id=exp_0.id)\n",
    "for cm in cm_result:\n",
    "    print(\"Score: \", cm.index, \"Index: \", cm.error)"
   ]
  },
  {
   "cell_type": "code",
   "execution_count": null,
   "metadata": {},
   "outputs": [],
   "source": []
  }
 ],
 "metadata": {
  "kernelspec": {
   "display_name": "django_kernel",
   "language": "python",
   "name": "django_kernel"
  },
  "language_info": {
   "codemirror_mode": {
    "name": "ipython",
    "version": 3
   },
   "file_extension": ".py",
   "mimetype": "text/x-python",
   "name": "python",
   "nbconvert_exporter": "python",
   "pygments_lexer": "ipython3",
   "version": "3.8.5"
  }
 },
 "nbformat": 4,
 "nbformat_minor": 4
}
