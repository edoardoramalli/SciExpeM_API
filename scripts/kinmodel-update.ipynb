{
 "cells": [
  {
   "cell_type": "code",
   "execution_count": 1,
   "id": "cbb8f0ce",
   "metadata": {},
   "outputs": [],
   "source": [
    "from SciExpeM_API.SciExpeM import SciExpeM\n",
    "\n",
    "my_sciexpem = SciExpeM(username=, password=)"
   ]
  },
  {
   "cell_type": "code",
   "execution_count": 2,
   "id": "fe841315",
   "metadata": {},
   "outputs": [],
   "source": [
    "model = my_sciexpem.filterDatabase(model_name='ChemModel', id = 102)\n",
    "base = r\"C:\\Users\\nobil\\OneDrive - Politecnico di Milano\\PhD\\Mechanisms\\1800_kik\\kinetics\"\n",
    "kinetics = base + \"kinetics.xml\"\n",
    "reaction_names = base + \"reaction_names.xml\"\n",
    "\n",
    "kinetic_file_open = open(kinetics, 'r')\n",
    "kinetic_file = kinetic_file_open.read()\n",
    "kinetic_file_open.close()\n",
    "\n",
    "reaction_names_open = open(reaction_names, 'r')\n",
    "reaction_names = reaction_names_open.read()\n",
    "reaction_names_open.close()\n",
    "\n",
    "my_sciexpem.updateElement(element=model[0],\n",
    "                          xml_file_kinetics_file = kinetic_file,\n",
    "                          xml_file_reaction_names_file = reaction_names)"
   ]
  }
 ],
 "metadata": {
  "kernelspec": {
   "display_name": "Python 3 (ipykernel)",
   "language": "python",
   "name": "python3"
  },
  "language_info": {
   "codemirror_mode": {
    "name": "ipython",
    "version": 3
   },
   "file_extension": ".py",
   "mimetype": "text/x-python",
   "name": "python",
   "nbconvert_exporter": "python",
   "pygments_lexer": "ipython3",
   "version": "3.10.8"
  }
 },
 "nbformat": 4,
 "nbformat_minor": 5
}
