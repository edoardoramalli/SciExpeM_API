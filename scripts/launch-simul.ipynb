{
 "cells": [
  {
   "cell_type": "code",
   "execution_count": 50,
   "metadata": {},
   "outputs": [
    {
     "name": "stdout",
     "output_type": "stream",
     "text": [
      "Attention. SciExpeM is a singleton.\n",
      "Attention. SciExpeM is a singleton.\n"
     ]
    }
   ],
   "source": [
    "from SciExpeM_API.SciExpeM import SciExpeM\n",
    "\n",
    "my_sciexpem = SciExpeM(username='luna.pratali', password='Firenze.2020')\n",
    "my_sciexpem = SciExpeM(token=my_sciexpem.user.token)"
   ]
  },
  {
   "cell_type": "code",
   "execution_count": 51,
   "metadata": {},
   "outputs": [],
   "source": [
    "from SciExpeM_API.Models import *"
   ]
  },
  {
   "cell_type": "code",
   "execution_count": 43,
   "metadata": {},
   "outputs": [],
   "source": [
    "\n",
    "idx = [3253, 3260, 3267, 3270, 3261, 3274,\n",
    "       3271, 3276, 3265, 3266, 3263, 3264, 3262]\n",
    "backup_chemModel = [287, 293, 287, 287, 293, 287, \n",
    "                    287, 287, 293, 293, 293, 293, 293]\n",
    "chemModel = 303\n",
    "\n"
   ]
  },
  {
   "cell_type": "code",
   "execution_count": 63,
   "metadata": {},
   "outputs": [],
   "source": [
    "# pyrolysis and ST, use HT\n",
    "idx = [2961, 2962, 697, 698, 699, # pyr\n",
    "       680, 681, 682, 683, 684, # st pyr badwin\n",
    "       606, 607, 608, 609, 610, # st da costa\n",
    "       611, 612, 613 614, 677] # st burcat\n",
    "chemModel = 303"
   ]
  },
  {
   "cell_type": "code",
   "execution_count": 70,
   "metadata": {},
   "outputs": [],
   "source": [
    "# \"LT\"Coxidation, HT and TOT mech behave in the same way\n",
    "idx = [3055, 3056, 3057, 3531, # lovell 1989 venkat 1982\n",
    "       702, 703, 704, 705, # ristori \n",
    "       693, 694, # marchal\n",
    "       678, 679, # da costa \n",
    "       3547, 3549] # chai\n",
    "chemModel = 307 # 307 for full"
   ]
  },
  {
   "cell_type": "code",
   "execution_count": 71,
   "metadata": {},
   "outputs": [
    {
     "name": "stdout",
     "output_type": "stream",
     "text": [
      "\n",
      "\n",
      "\n",
      "\n",
      "\n",
      "\n",
      "\n",
      "\n",
      "\n",
      "\n",
      "\n",
      "\n",
      "\n",
      "\n"
     ]
    }
   ],
   "source": [
    "for ii, i in enumerate(idx):\n",
    "    # uncomment backup if there is need\n",
    "    e = my_sciexpem.filterDatabase(model_name = 'Experiment', id = i)[0]\n",
    "    \n",
    "    input_file_lines = e.os_input_file.split('\\n')\n",
    "    for l, line in enumerate(input_file_lines):\n",
    "        if '@Backup' in line and '//' in line.split('@Backup')[0].strip().split():\n",
    "            input_file_lines[l] = '@Backup' + line.split('@Backup')[1]\n",
    "    input_file_new = ''.join([line + '\\n' for line in input_file_lines])\n",
    "    my_sciexpem.updateElement(element = e,\n",
    "                          os_input_file = input_file_new)\n",
    "    if len(backup_chemModel) == len(idx):\n",
    "        backup = backup_chemModel[ii]\n",
    "    else:\n",
    "        backup = None\n",
    "    my_sciexpem.initializeSimulation(\n",
    "        experiment = i, chemModel = chemModel, verbose = True, backup_chemModel = backup)\n"
   ]
  }
 ],
 "metadata": {
  "kernelspec": {
   "display_name": "sciexpem",
   "language": "python",
   "name": "python3"
  },
  "language_info": {
   "codemirror_mode": {
    "name": "ipython",
    "version": 3
   },
   "file_extension": ".py",
   "mimetype": "text/x-python",
   "name": "python",
   "nbconvert_exporter": "python",
   "pygments_lexer": "ipython3",
   "version": "3.9.7"
  },
  "vscode": {
   "interpreter": {
    "hash": "301f85e69c6d0b4b3c88e033444b8cc062edf10207d27b8ffa84acaec528c22d"
   }
  }
 },
 "nbformat": 4,
 "nbformat_minor": 4
}
