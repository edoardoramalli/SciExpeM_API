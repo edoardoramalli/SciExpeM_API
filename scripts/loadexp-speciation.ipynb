{
 "cells": [
  {
   "cell_type": "code",
   "execution_count": 9,
   "id": "4dbf35c4",
   "metadata": {},
   "outputs": [
    {
     "name": "stdout",
     "output_type": "stream",
     "text": [
      "Attention. SciExpeM is a singleton.\n"
     ]
    }
   ],
   "source": [
    "import sys\n",
    "import numpy as np\n",
    "from SciExpeM_API.SciExpeM import SciExpeM\n",
    "sys.path.append(r\"C:\\Users\\lpratalimaffei\\Desktop\\OneDrive - Politecnico di Milano\\Luna\\Universita\\PhD\\SCIEXPEM\") # path to extract_data.py\n",
    "import extract_data\n",
    "my_sciexpem = SciExpeM(username=, password=)\n",
    "from SciExpeM_API.Models import *\n",
    "\n",
    "CONVERT_TO_BAR = {'atm': 1.01325, 'bar': 1., 'Torr': 0.00133322, 'Pa': 1e-5}"
   ]
  },
  {
   "attachments": {},
   "cell_type": "markdown",
   "id": "7634bc53",
   "metadata": {},
   "source": [
    "### FilePaper\n",
    " - description*\n",
    " - reference_doi*\n",
    " - author*\n",
    " - title*\n",
    " - year*\n",
    " - volume\n",
    " - page\n",
    " - journal"
   ]
  },
  {
   "cell_type": "code",
   "execution_count": null,
   "id": "f490dc21",
   "metadata": {},
   "outputs": [],
   "source": [
    "#TEMPLATE\n",
    "file_paper = FilePaper(reference_doi=\"\", \n",
    "                       author=\"\",\n",
    "                       title=\"\",\n",
    "                       year=0,\n",
    "                       description=\"\"\n",
    "                       )\n"
   ]
  },
  {
   "cell_type": "code",
   "execution_count": 10,
   "id": "43b265d3",
   "metadata": {},
   "outputs": [],
   "source": [
    "#TEMPLATE\n",
    "file_paper = FilePaper(reference_doi=\"10.1016/S0016-2361(97)00192-0\", \n",
    "                       author=\"\tChai, Yan; Pfefferle, Lisa D.\",\n",
    "                       title=\"An Experimental Study Of Benzene Oxidation At Fuel-Lean And Stoichiometric Equivalence Ratio Conditions\",\n",
    "                       year=1998,\n",
    "                       description=\"Chai, Yan; Pfefferle, Lisa D. - Fuel, 1998, (77), 313-320\"                       )\n"
   ]
  },
  {
   "attachments": {},
   "cell_type": "markdown",
   "id": "01a4be36",
   "metadata": {},
   "source": [
    "### OpenSMOKE input file if available"
   ]
  },
  {
   "cell_type": "code",
   "execution_count": 11,
   "id": "49f4c6ff",
   "metadata": {},
   "outputs": [],
   "source": [
    "datapath = r'D:\\POLI\\OPENSMOKE\\BENZENE\\OXIDATION\\JSR_Chai_1998\\PHI_1.02'\n",
    "osinputname = 'input.dic'\n",
    "# WARNING LIST OF SPECIES MUST HAVE THE NAMES OF THE MECH YOU ARE GOING TO SIMULATE - OTHERWISE, NEED REPLACEMENT\n",
    "inputstr, extrainfo = extract_data.process_osinput(datapath, osinputname, profiles=False, flameinfo=True)  \n",
    "# LA LISTA DI OUTPUTSPECIES DEVE AVERE SPECIE NEL MECCANISMO CHE SIMULERAI"
   ]
  },
  {
   "cell_type": "code",
   "execution_count": 12,
   "id": "783c2f6f",
   "metadata": {},
   "outputs": [
    {
     "name": "stdout",
     "output_type": "stream",
     "text": [
      "{'profileinfo': {}, 'commonprop': {'pressure': ['0.46', 'atm']}, 'character': {}}\n"
     ]
    }
   ],
   "source": [
    "print(extrainfo)"
   ]
  },
  {
   "attachments": {},
   "cell_type": "markdown",
   "id": "6f5a932e",
   "metadata": {},
   "source": [
    "### Common properties\n",
    "\n",
    "- name\n",
    "- units\n",
    "- value\n",
    "- source_type"
   ]
  },
  {
   "cell_type": "code",
   "execution_count": 13,
   "id": "f03af6ea",
   "metadata": {},
   "outputs": [],
   "source": [
    "sourcetype = 'reported'\n",
    "commonprop = []\n",
    "for name, values in extrainfo['commonprop'].items():\n",
    "    ci = CommonProperty(name=name, units=values[1], value=values[0], source_type=sourcetype)\n",
    "    commonprop.append(ci)\n",
    "    \n",
    "# ADD OTHER COMMON PROPERTIES\n",
    "#ci = CommonProperty(name='temperature', units='K', value='1120', source_type='reported')\n",
    "#commonprop.append(ci)\n",
    "############# DO NOT EDIT\n",
    "# extract pressure\n",
    "if 'pressure' in extrainfo['commonprop'].keys():\n",
    "    Pval, Punit = extrainfo['commonprop']['pressure']\n",
    "    P = float(Pval) * CONVERT_TO_BAR[Punit]\n"
   ]
  },
  {
   "attachments": {},
   "cell_type": "markdown",
   "id": "46bd0ec5",
   "metadata": {},
   "source": [
    "### Initial Species\n",
    "\n",
    "- name\n",
    "- units\n",
    "- value\n",
    "- source_type\n",
    "- configuration"
   ]
  },
  {
   "cell_type": "code",
   "execution_count": 14,
   "id": "3ca17ba5",
   "metadata": {},
   "outputs": [],
   "source": [
    "# THIS REFERS TO THE SIMULATION\n",
    "# PREMIXED IS DEFAULT AND MUST BE INDICATED UNLESS IT'S A CF FLAME\n",
    "species = ['C6H6', 'O2', 'AR']\n",
    "composition = ['0.0051', '0.03825', '0.95665']\n",
    "comp_unit = 'mole fraction'\n",
    "srctype = 'reported'\n",
    "config = 'premixed'\n",
    "################# do not edit\n",
    "inspecies = []\n",
    "for i, s in enumerate(species):\n",
    "    si = my_sciexpem.filterDatabase(model_name='Specie', preferredKey=s)[0]\n",
    "    ii = InitialSpecie(name=species[i], \n",
    "                    specie=si, \n",
    "                    units=comp_unit, \n",
    "                    value=composition[i], \n",
    "                    source_type=srctype, \n",
    "                    configuration=config)\n",
    "\n",
    "    inspecies.append(ii)"
   ]
  },
  {
   "attachments": {},
   "cell_type": "markdown",
   "id": "7f52128b",
   "metadata": {},
   "source": [
    "### Data columns\n",
    "\n",
    "- name\n",
    "- label (not comuplsory)\n",
    "- species_object\n",
    "- units\n",
    "- data\n",
    "- dg_id \n",
    "- dg_label\n",
    "- source_type\n"
   ]
  },
  {
   "cell_type": "code",
   "execution_count": 15,
   "id": "284b88a6",
   "metadata": {},
   "outputs": [
    {
     "name": "stdout",
     "output_type": "stream",
     "text": [
      "species C4H2.1 not as preferred name: alternative names searched\n",
      "warning: species C4H2.1 not found and not inserted in the columns - please check it's what you want\n",
      "species C3H4 not as preferred name: alternative names searched\n",
      "species C12H10 not as preferred name: alternative names searched\n",
      "species C9H8 not as preferred name: alternative names searched\n"
     ]
    }
   ],
   "source": [
    "# read data\n",
    "datafile = r'D:\\POLI\\OPENSMOKE\\BENZENE\\OXIDATION\\JSR_Chai_1998\\data_1.txt'\n",
    "df_data = extract_data.readdata(datafile, delzero=True)\n",
    "# process data\n",
    "datacols = []\n",
    "srctype = 'digitized'\n",
    "label = 'experimental_data'\n",
    "#x = ['temperature', 'K']\n",
    "#x = ['time', 's'] # NB must be 'residence time' for concentration time profile, but only works with 'time' lol\n",
    "#y = ['concentration', 'mol/cm3']\n",
    "x = ['temperature', 'K']\n",
    "y = ['composition', 'mole fraction']\n",
    "#uncert_x = [30, 'absolute'] #currently unavailable\n",
    "#uncert_y = [0.2, 'relative']\n",
    "uncert_y = [] # uncomment above to put uncertainty\n",
    "#################### DO NOT EDIT################\n",
    "if x[0] == 'temperature':\n",
    "    TINF = 3500\n",
    "    TSUP = 0\n",
    "else:\n",
    "    if 'T profile' in extrainfo['character'].keys():\n",
    "        Tvect = np.array(extrainfo['character']['T profile'][1::2], dtype=float)\n",
    "        TINF = min(Tvect)\n",
    "        TSUP = max(Tvect)\n",
    "        print('T max and min found from OS input profile: {} - {} K'.format(TINF, TSUP))\n",
    "for dg, df in df_data.items():\n",
    "    # x axis\n",
    "    x_data = list(df.index)\n",
    "    x_datacol = DataColumn(name=x[0], units=x[1], dg_id=dg, dg_label=label, data=x_data,\n",
    "                           source_type=srctype)\n",
    "#    if len(uncert_x) > 0:        \n",
    "#        x_u = DataColumn(name = 'uncertainty', units = x[1], dg_id = dg, dg_label = label,\n",
    "#                         data = list(uncert_x[0] * np.ones(len(x_data))), source_type = srctype, \n",
    "#                         uncertainty_bound = 'plusminus'*(uncert_x[1] == 'absolute') + 'percentage'*(uncert_x[1] == 'relative'),\n",
    "#                         uncertainty_kind = uncert_x[1])\n",
    "#        uref = x_u \n",
    "#    else:\n",
    "#        uref = None\n",
    "        \n",
    "    x_datacol = DataColumn(name=x[0], units=x[1], dg_id=dg, dg_label=label, data=x_data,\n",
    "                        source_type=srctype, uncertainty_reference=None)    \n",
    "    datacols.append(x_datacol)\n",
    "    len_dg = len(x_data)\n",
    "    if x[0] == 'temperature' and min(x_data) < TINF:\n",
    "        TINF = min(x_data)\n",
    "    if x[0] == 'temperature' and max(x_data) > TSUP:\n",
    "        TSUP = max(x_data)\n",
    "    # y\n",
    "    for y_name in df.columns:\n",
    "        # species\n",
    "        # print(y_name)\n",
    "        spobj = []\n",
    "        for sp in y_name.split('+'):\n",
    "            spobj_temp = my_sciexpem.filterDatabase(\n",
    "                model_name='Specie', preferredKey=sp)\n",
    "            if len(spobj_temp) == 0:\n",
    "                print(\n",
    "                    'species {} not as preferred name: alternative names searched'.format(sp))\n",
    "                spobj_temp = my_sciexpem.filterDatabase(\n",
    "                    model_name='Specie', names__contains=[sp])\n",
    "                \n",
    "            if len(spobj_temp) == 0:\n",
    "                print('warning: species {} not found and not inserted in the columns - please check it\\'s what you want'.format(y_name))\n",
    "            else:\n",
    "                spobj += spobj_temp\n",
    "        # print(spobj)\n",
    "        # final data\n",
    "        if len(spobj) > 0:\n",
    "            if len(uncert_y) > 0:        \n",
    "                uref = DataColumn(name = 'uncertainty', units = y[1], dg_id = dg, dg_label = label,\n",
    "                                data = list(uncert_y[0] * np.ones(len(x_data))), source_type = srctype, \n",
    "                                uncertainty_bound = 'plusminus',\n",
    "                                uncertainty_kind = uncert_y[1])\n",
    "            else:\n",
    "                uref = None\n",
    "\n",
    "            y_datacol = DataColumn(name=y[0], units=y[1], dg_id=dg, dg_label=label,\n",
    "                                data=list(df.loc[x_data][y_name]), source_type=srctype,\n",
    "                                species_object=spobj, uncertainty_reference=uref)  \n",
    "            \n",
    "            datacols.append(y_datacol)\n"
   ]
  },
  {
   "attachments": {},
   "cell_type": "markdown",
   "id": "eefea6dd",
   "metadata": {},
   "source": [
    "### Assemble the experiment"
   ]
  },
  {
   "cell_type": "code",
   "execution_count": 16,
   "id": "d4e86864",
   "metadata": {},
   "outputs": [],
   "source": [
    "e = Experiment(reactor='stirred reactor', # [flow reactor, flame, stirred reactor ]\n",
    "               experiment_type='outlet concentration measurement',\n",
    "               file_paper=file_paper,\n",
    "               reactor_modes=['premixed'], # da mettere in tutte le fiamme # coflow, couterflow, premixed, burner stabilized stagnation\n",
    "               data_columns=datacols, \n",
    "               initial_species=inspecies, \n",
    "               common_properties=commonprop,\n",
    "               os_input_file=inputstr,\n",
    "               #t_inf = 1120, t_sup = 1120,\n",
    "               t_inf = TINF, t_sup = TSUP,\n",
    "               p_inf = P, p_sup = P,\n",
    "               phi_inf = 1.02, phi_sup = 1.02,\n",
    "               fuels = ['C6H6'],\n",
    "               comment = 'potentially more exp profiles not all extracted'\n",
    "               #comment = 'technically not isothermal but simulated as such - T almost unvaried'\n",
    "               #comment = 'C4H2 plot unclear, order might be 1e6 or 1e8 (person who digitized assumed 1e8); bath gas varies with experimental run (Ne, He), but should not affect the results'\n",
    "               )"
   ]
  },
  {
   "cell_type": "code",
   "execution_count": null,
   "id": "5b8eaa00",
   "metadata": {},
   "outputs": [],
   "source": [
    "e.serialize()\n",
    "# check that everything is ok"
   ]
  },
  {
   "attachments": {},
   "cell_type": "markdown",
   "id": "1623d920",
   "metadata": {},
   "source": [
    "### Send Experiment"
   ]
  },
  {
   "cell_type": "code",
   "execution_count": 60,
   "id": "55da5a09",
   "metadata": {},
   "outputs": [
    {
     "name": "stdout",
     "output_type": "stream",
     "text": [
      "Experiment element inserted successfully.\n"
     ]
    }
   ],
   "source": [
    "my_sciexpem.insertElement(e, verbose=True)"
   ]
  }
 ],
 "metadata": {
  "kernelspec": {
   "display_name": "sciexpem",
   "language": "python",
   "name": "python3"
  },
  "language_info": {
   "codemirror_mode": {
    "name": "ipython",
    "version": 3
   },
   "file_extension": ".py",
   "mimetype": "text/x-python",
   "name": "python",
   "nbconvert_exporter": "python",
   "pygments_lexer": "ipython3",
   "version": "3.11.3"
  },
  "vscode": {
   "interpreter": {
    "hash": "301f85e69c6d0b4b3c88e033444b8cc062edf10207d27b8ffa84acaec528c22d"
   }
  }
 },
 "nbformat": 4,
 "nbformat_minor": 5
}
