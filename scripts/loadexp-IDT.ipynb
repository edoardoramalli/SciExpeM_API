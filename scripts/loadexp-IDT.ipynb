{
 "cells": [
  {
   "cell_type": "code",
   "execution_count": 10,
   "id": "4dbf35c4",
   "metadata": {},
   "outputs": [
    {
     "name": "stdout",
     "output_type": "stream",
     "text": [
      "Attention. SciExpeM is a singleton.\n"
     ]
    }
   ],
   "source": [
    "import sys\n",
    "from SciExpeM_API.SciExpeM import SciExpeM\n",
    "my_sciexpem = SciExpeM(username=, password=)\n",
    "\n",
    "from SciExpeM_API.Models import *"
   ]
  },
  {
   "attachments": {},
   "cell_type": "markdown",
   "id": "6f5a932e",
   "metadata": {},
   "source": [
    "### Common properties\n",
    "\n",
    "- name\n",
    "- units\n",
    "- value\n",
    "- source_type"
   ]
  },
  {
   "cell_type": "code",
   "execution_count": 72,
   "id": "f03af6ea",
   "metadata": {},
   "outputs": [],
   "source": [
    "P = 12 #atm\n",
    "phi = 0.25 #unitless\n",
    "# c3 = CommonProperty(name='temperature', units='K', value='1098', source_type='reported')\n",
    "c1 = CommonProperty(name='pressure', units='atm', value=str(P), source_type='reported')\n",
    "#c2 = CommonProperty(name='residence time', units='s', value='0.004', source_type='reported')\n",
    "# if parametric analysis, report only the common feature, see other examples\n",
    "commonprop = [c1,]"
   ]
  },
  {
   "attachments": {},
   "cell_type": "markdown",
   "id": "46bd0ec5",
   "metadata": {},
   "source": [
    "### Initial Species\n",
    "\n",
    "- name\n",
    "- units\n",
    "- value\n",
    "- source_type\n",
    "- configuration"
   ]
  },
  {
   "cell_type": "code",
   "execution_count": 73,
   "id": "3ca17ba5",
   "metadata": {},
   "outputs": [],
   "source": [
    "# THIS REFERS TO THE SIMULATION\n",
    "# PREMIXED IS DEFAULT AND MUST BE INDICATED UNLESS IT'S A CF FLAME\n",
    "species = ['C7H8', 'O2', 'N2']\n",
    "composition = ['0.00580', '0.20887', '0.78533']\n",
    "comp_unit = 'mole fraction'\n",
    "srctype = 'reported'\n",
    "config = 'premixed'\n",
    "################# do not edit\n",
    "inspecies = []\n",
    "for i, s in enumerate(species):\n",
    "    si = my_sciexpem.filterDatabase(model_name='Specie', preferredKey=s)[0]\n",
    "    ii = InitialSpecie(name=species[i], \n",
    "                    specie=si, \n",
    "                    units=comp_unit, \n",
    "                    value=composition[i], \n",
    "                    source_type=srctype, \n",
    "                    configuration=config)\n",
    "\n",
    "    inspecies.append(ii)"
   ]
  },
  {
   "attachments": {},
   "cell_type": "markdown",
   "id": "7f52128b",
   "metadata": {},
   "source": [
    "### Data columns\n",
    "\n",
    "- name\n",
    "- label\n",
    "- units\n",
    "- data\n",
    "- dg_id \n",
    "- dg_label\n",
    "- source_type\n"
   ]
  },
  {
   "cell_type": "code",
   "execution_count": 74,
   "id": "284b88a6",
   "metadata": {},
   "outputs": [],
   "source": [
    "T = [1152,1169,1171,1191,1220,1230,1231,1263,1268,1291,1385,1400,]\n",
    "IDT_MUS = [966,600,687,639,465,398,475,342,298,233,151,94,]\n",
    "\n",
    "# DO NOT EDIT\n",
    "d1 = DataColumn(name='temperature',\n",
    "                units='K', \n",
    "                dg_id='dg1',\n",
    "                dg_label='experimental_data', # qua è il tipo \"regolare\"\n",
    "                data= T,\n",
    "                source_type='reported')\n",
    "\n",
    "# uncertainty deve avere la stessa unità di misura della colonna associata\n",
    "# id ovviamente deve essere sempre dello stesso datagroup e anche il label\n",
    "# devi mettere PRIMA l'incertezza e poi il dato!\n",
    "#d2 = DataColumn(name = 'uncertainty',  \n",
    "#                units = 'us', \n",
    "#                dg_id = 'dg1',\n",
    "#                dg_label = 'experimental_data',\n",
    "#                data = [0.1, 0.2, 0.3, 0.4, 0.5],\n",
    "#                source_type = 'reported',\n",
    "#                uncertainty_bound = 'plusminus',  # oppure percentage\n",
    "#                uncertainty_kind = 'relative')\n",
    "#\n",
    "d2= DataColumn(name='ignition delay',\n",
    "                units='us', \n",
    "                dg_id='dg1',\n",
    "                dg_label='experimental_data',\n",
    "                data = IDT_MUS,\n",
    "                source_type = 'reported',)\n",
    "                #uncertainty_reference=d2) # RIFERIMENTO A INCERTEZZA\n",
    "datacols = [d1, d2]"
   ]
  },
  {
   "attachments": {},
   "cell_type": "markdown",
   "id": "7634bc53",
   "metadata": {},
   "source": [
    "### FilePaper\n",
    " - description*\n",
    " - reference_doi*\n",
    " - author*\n",
    " - title*\n",
    " - year*\n",
    " - volume\n",
    " - page\n",
    " - journal"
   ]
  },
  {
   "cell_type": "code",
   "execution_count": 36,
   "id": "43b265d3",
   "metadata": {},
   "outputs": [],
   "source": [
    "# QUESTO PIù COMODO DA FARE DIRETTAMENTE SU SCIEXPEM E POI FAI COPIA INCOLLA QUI\n",
    "file_paper = FilePaper(reference_doi=\"10.1016/J.PROCI.2008.05.004\", \n",
    "                       author=\"Shen, Hsi-Ping S.; Vanderover, Jeremy; Oehlschlaeger, Matthew A.\",                       \n",
    "                       title=\"Probing The Antagonistic Effect Of Toluene As A Component In Surrogate Fuel Models At Low Temperatures And High Pressures. A Case Study Of Toluene/Dimethyl Ether Mixtures\",\n",
    "                       year=\"2009\",\n",
    "                       description=\"Shen, Hsi-Ping S.; Vanderover, Jeremy; Oehlschlaeger, Matthew A. - Proceedings Of The Combustion Institute, 2009, (32), 165-172\",\n",
    "                       )"
   ]
  },
  {
   "attachments": {},
   "cell_type": "markdown",
   "id": "01a4be36",
   "metadata": {},
   "source": [
    "### OpenSMOKE input file if available"
   ]
  },
  {
   "cell_type": "code",
   "execution_count": 75,
   "id": "49f4c6ff",
   "metadata": {},
   "outputs": [],
   "source": [
    "input_path = r'D:\\POLI\\OPENSMOKE\\TOLUENE\\IDT\\Shen_2009\\12 atm\\025\\input.dic'\n",
    "with open(input_path) as f:\n",
    "    inputstr = f.read()\n",
    "# NB è MEGLIO METTERE TUTTO SULLA STESSA RIGA!! QUINDI TIPO INPUT DEVE ESSERE COSì"
   ]
  },
  {
   "attachments": {},
   "cell_type": "markdown",
   "id": "eefea6dd",
   "metadata": {},
   "source": [
    "### Assembly the experiment"
   ]
  },
  {
   "cell_type": "code",
   "execution_count": 76,
   "id": "d4e86864",
   "metadata": {},
   "outputs": [],
   "source": [
    "e = Experiment(reactor='shock tube', \n",
    "               experiment_type='ignition delay measurement', \n",
    "               ignition_type='p-d/dt max',\n",
    "               file_paper=file_paper, \n",
    "               data_columns= datacols,  #NON C'è L'INCERTEZZA NELLE DATA COLUMNS!!\n",
    "               initial_species=inspecies, \n",
    "               common_properties=commonprop,\n",
    "               os_input_file=inputstr,\n",
    "               t_inf = min(T), t_sup = max(T), #  QUESTA è LA SEZIONE CHARACTERISTICS\n",
    "               # PER LFS METTI INF = SUP COME LA T DI INGRESSO\n",
    "               p_inf = P, p_sup = P,\n",
    "               phi_inf = phi, phi_sup = phi,\n",
    "               fuels = ['C7H8']) # LISTA DI FUEL DI INGRESSO"
   ]
  },
  {
   "cell_type": "code",
   "execution_count": null,
   "id": "1678e1f0",
   "metadata": {},
   "outputs": [],
   "source": [
    "e.serialize()\n",
    "# QUESTO TI FA VEDERE IL JSON DELLE COSE CHE STAI CARICANDO \n",
    "# IN MODO DA CONTROLLARE CHE SIA TUTTO A POSTO"
   ]
  },
  {
   "attachments": {},
   "cell_type": "markdown",
   "id": "1623d920",
   "metadata": {},
   "source": [
    "### Send Experiment"
   ]
  },
  {
   "cell_type": "code",
   "execution_count": 77,
   "id": "55da5a09",
   "metadata": {},
   "outputs": [
    {
     "name": "stdout",
     "output_type": "stream",
     "text": [
      "Experiment element inserted successfully.\n"
     ]
    }
   ],
   "source": [
    "my_sciexpem.insertElement(e, verbose=True)\n",
    "# QUI DOVRESTI RIUSCIRE A FARLO SMOOTHLY"
   ]
  }
 ],
 "metadata": {
  "kernelspec": {
   "display_name": "sciexpem",
   "language": "python",
   "name": "python3"
  },
  "language_info": {
   "codemirror_mode": {
    "name": "ipython",
    "version": 3
   },
   "file_extension": ".py",
   "mimetype": "text/x-python",
   "name": "python",
   "nbconvert_exporter": "python",
   "pygments_lexer": "ipython3",
   "version": "3.9.7"
  },
  "vscode": {
   "interpreter": {
    "hash": "301f85e69c6d0b4b3c88e033444b8cc062edf10207d27b8ffa84acaec528c22d"
   }
  }
 },
 "nbformat": 4,
 "nbformat_minor": 5
}
