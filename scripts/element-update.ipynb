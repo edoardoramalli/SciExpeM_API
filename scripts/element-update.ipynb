{
 "cells": [
  {
   "cell_type": "code",
   "execution_count": 2,
   "id": "9c206065",
   "metadata": {},
   "outputs": [],
   "source": [
    "from SciExpeM_API.SciExpeM import SciExpeM\n",
    "\n",
    "my_sciexpem = SciExpeM(username='yourid', password='yourpw')"
   ]
  },
  {
   "cell_type": "code",
   "execution_count": 7,
   "id": "4f3ca49b",
   "metadata": {},
   "outputs": [],
   "source": [
    "#specie = my_sciexpem.filterDatabase(model_name='Specie', preferredKey='C18H12')[0]\n",
    "specie = my_sciexpem.filterDatabase(model_name='Specie', names__contains=['C6H4O2'])[1]"
   ]
  },
  {
   "cell_type": "code",
   "execution_count": 8,
   "id": "f7527bcb",
   "metadata": {},
   "outputs": [
    {
     "name": "stdout",
     "output_type": "stream",
     "text": [
      "<Specie (44)>\n"
     ]
    }
   ],
   "source": [
    "print(specie)\n"
   ]
  },
  {
   "cell_type": "code",
   "execution_count": 9,
   "id": "fe0ab672",
   "metadata": {},
   "outputs": [
    {
     "name": "stdout",
     "output_type": "stream",
     "text": [
      "C6H4O2\n"
     ]
    }
   ],
   "source": [
    "print(specie.preferredKey)"
   ]
  },
  {
   "cell_type": "code",
   "execution_count": 10,
   "id": "914550a8",
   "metadata": {},
   "outputs": [],
   "source": [
    "my_sciexpem.updateElement(element = specie, preferredKey='C6H4O2-O')"
   ]
  },
  {
   "cell_type": "code",
   "execution_count": 31,
   "id": "07f83a4c",
   "metadata": {},
   "outputs": [],
   "source": [
    "my_sciexpem.updateElement(element = specie, preferredKey='C6H13OH-1', CAS='111-27-3',\n",
    "                          names = ['ESAN1OH', 'C6H13OH','C6H13OH-1'], InChI='1S/C6H14O/c1-2-3-4-5-6-7/h7H,2-6H2,1H3',\n",
    "                          SMILES='CCCCCCO', chemName = '1-Hexanol')"
   ]
  }
 ],
 "metadata": {
  "kernelspec": {
   "display_name": "sciexpem",
   "language": "python",
   "name": "python3"
  },
  "language_info": {
   "codemirror_mode": {
    "name": "ipython",
    "version": 3
   },
   "file_extension": ".py",
   "mimetype": "text/x-python",
   "name": "python",
   "nbconvert_exporter": "python",
   "pygments_lexer": "ipython3",
   "version": "3.9.7"
  },
  "vscode": {
   "interpreter": {
    "hash": "301f85e69c6d0b4b3c88e033444b8cc062edf10207d27b8ffa84acaec528c22d"
   }
  }
 },
 "nbformat": 4,
 "nbformat_minor": 5
}
